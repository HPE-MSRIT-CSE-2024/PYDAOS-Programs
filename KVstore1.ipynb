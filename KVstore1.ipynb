{
  "nbformat": 4,
  "nbformat_minor": 0,
  "metadata": {
    "colab": {
      "provenance": []
    },
    "kernelspec": {
      "name": "python3",
      "display_name": "Python 3"
    },
    "language_info": {
      "name": "python"
    }
  },
  "cells": [
    {
      "cell_type": "code",
      "source": [
        "import json"
      ],
      "metadata": {
        "id": "zswKErxIdFvo"
      },
      "execution_count": 7,
      "outputs": []
    },
    {
      "cell_type": "code",
      "execution_count": 8,
      "metadata": {
        "id": "ViGS0c0Fc8Re"
      },
      "outputs": [],
      "source": [
        "\n",
        "\n",
        "class KeyValueStore:\n",
        "    def __init__(self):\n",
        "        self.data = {}\n",
        "\n",
        "    def put(self, key, value):\n",
        "        keys = key.split('.')\n",
        "        current_level = self.data\n",
        "        for k in keys[:-1]:\n",
        "            if k not in current_level:\n",
        "                current_level[k] = {}\n",
        "            current_level = current_level[k]\n",
        "        current_level[keys[-1]] = value\n",
        "\n",
        "    def __getitem__(self, key):\n",
        "        if not isinstance(key, str):\n",
        "            key = str(key)\n",
        "        keys = key.split('.')\n",
        "        current_level = self.data\n",
        "        for k in keys:\n",
        "            if k not in current_level:\n",
        "                return None\n",
        "            current_level = current_level[k]\n",
        "        return current_level\n",
        "\n",
        "    def pop(self, key):\n",
        "      keys = key.split('.')\n",
        "      current_level = self.data\n",
        "      for k in keys[:-1]:\n",
        "        if k not in current_level:\n",
        "          return \"Key not found\"\n",
        "        current_level = current_level[k]\n",
        "      if keys[-1] in current_level:\n",
        "        del current_level[keys[-1]]\n",
        "        return \"Key deleted\"\n",
        "      else:\n",
        "        return \"Key not found\"\n",
        "\n",
        "\n",
        "    def bput(self, python_dict):\n",
        "        for key, value in python_dict.items():\n",
        "            self.put(key, value)\n",
        "\n",
        "    def bget(self, python_dict):\n",
        "        result = {}\n",
        "        for key in python_dict:\n",
        "            result[key] = self[key]\n",
        "        return result\n",
        "\n",
        "    def dump(self):\n",
        "        return self.data\n",
        "\n",
        "    def __len__(self):\n",
        "        return len(self.data)\n",
        "\n"
      ]
    },
    {
      "cell_type": "code",
      "source": [
        "\n",
        "daos_dict = KeyValueStore()"
      ],
      "metadata": {
        "id": "k3YsCdvJdgO5"
      },
      "execution_count": 9,
      "outputs": []
    },
    {
      "cell_type": "markdown",
      "source": [
        "Load data from JSON file and store in daos_dict"
      ],
      "metadata": {
        "id": "wcrcCGVEdjsF"
      }
    },
    {
      "cell_type": "code",
      "source": [
        "with open('data.json') as json_file:\n",
        "    data = json.load(json_file)\n",
        "    for entry in data:\n",
        "        key = entry[\"usn\"]\n",
        "        value = entry[\"name\"]\n",
        "        daos_dict.put(key, value)"
      ],
      "metadata": {
        "id": "4z5m1a9Zdeva"
      },
      "execution_count": 10,
      "outputs": []
    },
    {
      "cell_type": "code",
      "source": [
        "\n",
        "while True:\n",
        "    cmd = input(\"\\nCommand (? for help)> \")\n",
        "    if cmd == \"?\":\n",
        "        print(\"?\\t- Print this help\")\n",
        "        print(\"r\\t- Read a key\")\n",
        "        print(\"ra\\t- Read all keys\")\n",
        "        print(\"i\\t- Insert new key\")\n",
        "        print(\"d\\t- Delete key\")\n",
        "        print(\"ib\\t- Insert new keys in bulk\")\n",
        "        print(\"rb\\t- Read keys in bulk\")\n",
        "        print(\"q\\t- Quit\")\n",
        "    elif cmd == \"r\":\n",
        "        key = input(\"USN? \")\n",
        "        try:\n",
        "            print(\"\\tUSN:\", key, \"\\tName:\", daos_dict[key])\n",
        "        except KeyError:\n",
        "            print(\"\\tError! Key not found\")\n",
        "    elif cmd == \"ra\":\n",
        "        print(\"\\nDictionary length =\", len(daos_dict))\n",
        "        for USN, name in daos_dict.dump().items():\n",
        "            print(\"USN =\", USN, \"  Name =\", name)\n",
        "    elif cmd == \"i\":\n",
        "        key = input(\"Enter USN: \")\n",
        "        value = input(\"Enter Name: \")\n",
        "        daos_dict.put(key, value)\n",
        "        print(\"Key-value pair inserted successfully.\")\n",
        "    elif cmd == \"d\":\n",
        "        key = input(\"USN to delete? \")\n",
        "        print(daos_dict.pop(key))\n",
        "    elif cmd == \"ib\":\n",
        "        print(\"\\nInserting new keys in bulk\")\n",
        "        bulk_data = {}\n",
        "        while True:\n",
        "            key = input(\"Enter USN (press Enter to finish): \")\n",
        "            if key == \"\":\n",
        "                break\n",
        "            value = input(\"Enter Name for \" + key + \": \")\n",
        "            bulk_data[key] = value\n",
        "        daos_dict.bput(bulk_data)\n",
        "        print(\"Bulk insertion completed.\")\n",
        "    elif cmd == \"rb\":\n",
        "        print(\"\\nReading keys in bulk\")\n",
        "        bulk_keys = []\n",
        "        while True:\n",
        "            key = input(\"Enter key to read (press Enter to finish): \")\n",
        "            if key == \"\":\n",
        "                break\n",
        "            bulk_keys.append(key)\n",
        "        result = daos_dict.bget({key: None for key in bulk_keys})\n",
        "        print(\"Bulk read result:\")\n",
        "        for key, value in result.items():\n",
        "            print(\"\\tUSN:\", key, \"\\tName:\", value)\n",
        "    elif cmd == \"q\":\n",
        "        break\n",
        "    else:\n",
        "        print(\"Invalid command. Please try again.\")\n"
      ],
      "metadata": {
        "colab": {
          "base_uri": "https://localhost:8080/"
        },
        "id": "jfgI2oXWdZXM",
        "outputId": "ead38d37-c0df-4172-b4d0-d31080361f95"
      },
      "execution_count": null,
      "outputs": [
        {
          "output_type": "stream",
          "name": "stdout",
          "text": [
            "\n",
            "Command (? for help)> ?\n",
            "?\t- Print this help\n",
            "r\t- Read a key\n",
            "ra\t- Read all keys\n",
            "i\t- Insert new key\n",
            "d\t- Delete key\n",
            "ib\t- Insert new keys in bulk\n",
            "rb\t- Read keys in bulk\n",
            "q\t- Quit\n"
          ]
        }
      ]
    },
    {
      "cell_type": "markdown",
      "source": [],
      "metadata": {
        "id": "kukQtt6kjoVY"
      }
    }
  ]
}