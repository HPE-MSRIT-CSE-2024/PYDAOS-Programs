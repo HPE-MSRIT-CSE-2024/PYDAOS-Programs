{
  "nbformat": 4,
  "nbformat_minor": 0,
  "metadata": {
    "colab": {
      "provenance": [],
      "include_colab_link": true
    },
    "kernelspec": {
      "name": "python3",
      "display_name": "Python 3"
    },
    "language_info": {
      "name": "python"
    }
  },
  "cells": [
    {
      "cell_type": "markdown",
      "metadata": {
        "id": "view-in-github",
        "colab_type": "text"
      },
      "source": [
        "<a href=\"https://colab.research.google.com/github/HPE-MSRIT-CSE-2024/PYDAOS-Programs/blob/main/100mb_python_dict.ipynb\" target=\"_parent\"><img src=\"https://colab.research.google.com/assets/colab-badge.svg\" alt=\"Open In Colab\"/></a>"
      ]
    },
    {
      "cell_type": "code",
      "source": [
        "data_dict = {}\n",
        "\n",
        "def handle_upload(file_name):\n",
        "    global data_dict\n",
        "    with open(file_name, 'rb') as file:\n",
        "        data_dict['chunks'] = []\n",
        "\n",
        "        while True:\n",
        "            chunk = file.read(1024 * 1024)  # Read 1MB chunk of data\n",
        "            if not chunk:\n",
        "                break\n",
        "            # Store the chunk in the dictionary\n",
        "            data_dict['chunks'].append(chunk)\n",
        "\n",
        "    print(\"File uploaded and processed successfully.\")\n",
        "\n",
        "#replace file_name with the original name of the file\n",
        "file_name=\"file_name\"\n",
        "\n",
        "handle_upload(file_name)\n",
        "\n"
      ],
      "metadata": {
        "colab": {
          "base_uri": "https://localhost:8080/"
        },
        "id": "3SpEJQqvZuTe",
        "outputId": "b28502e6-a8a2-45a8-a795-e8ee69e440c7"
      },
      "execution_count": null,
      "outputs": [
        {
          "output_type": "stream",
          "name": "stdout",
          "text": [
            "File uploaded and processed successfully.\n"
          ]
        }
      ]
    },
    {
      "cell_type": "code",
      "source": [
        "reconstructed_file_content = b''.join(chunks)\n",
        "\n",
        "# Specify the file name for the reconstructed file\n",
        "reconstructed_file_name = \"reconstructed_file\"\n",
        "\n",
        "with open(reconstructed_file_name, 'wb') as f:\n",
        "    f.write(reconstructed_file_content)\n",
        "\n",
        "print(\"Reconstructed file saved as:\", reconstructed_file_name)\n"
      ],
      "metadata": {
        "colab": {
          "base_uri": "https://localhost:8080/"
        },
        "id": "CBlrRo-nZ5cV",
        "outputId": "95224920-7276-4386-fa99-e8ff76adec70"
      },
      "execution_count": null,
      "outputs": [
        {
          "output_type": "stream",
          "name": "stdout",
          "text": [
            "Reconstructed file saved as: reconstructed_file.txt\n"
          ]
        }
      ]
    }
  ]
}